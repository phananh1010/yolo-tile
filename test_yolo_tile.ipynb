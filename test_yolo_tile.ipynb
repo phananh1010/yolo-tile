{
 "cells": [
  {
   "cell_type": "code",
   "execution_count": 34,
   "metadata": {},
   "outputs": [],
   "source": [
    "#TODO: divide image into tiles, \n",
    "#       design yolo works on tiles\n",
    "#        add a network segment to combine the result\n",
    "#         train the model on MNIST"
   ]
  },
  {
   "cell_type": "code",
   "execution_count": 35,
   "metadata": {},
   "outputs": [],
   "source": [
    "\n",
    "#TODO: relearn the procedure, refractor the code\n",
    "from __future__ import division\n",
    "import numpy as np\n",
    "import torch as t\n",
    "import torchvision as tv\n",
    "import torchvision.transforms as transform\n",
    "import torch.nn as nn\n",
    "import torch.nn.functional as F\n",
    "\n",
    "import yolo_base\n",
    "import test_utils\n",
    "\n",
    "import imp\n",
    "imp.reload(test_utils)\n",
    "imp.reload(yolo_base)\n",
    "\n",
    "use_cuda = t.cuda.is_available()\n",
    "device = t.device(\"cuda:0\" if use_cuda else \"cpu\")\n",
    "\n",
    "\n",
    "tile_size = 416#1472#416#1472#768#416\n",
    "overlap = 64\n",
    "step = tile_size - overlap\n",
    "tile_nh = 2\n",
    "tile_nw = 2\n",
    "tile_n = tile_nh * tile_nw\n",
    "img_size_h = tile_size * tile_nh - (tile_nh - 1) * overlap\n",
    "img_size_w = tile_size * tile_nw - (tile_nw - 1) * overlap\n",
    "\n",
    "\n",
    "def cut_tiles(img, tile_size, step):\n",
    "    #img shape: batch, channel, \n",
    "    return img.data.unfold(2, tile_size, step).unfold(3, tile_size, step)\n",
    "\n",
    "def get_tile(tiles, hi, wi):\n",
    "    #TODO: return batch of tiles, shape (bath, channel, tile_size, tile_size)\n",
    "    return tiles[:, :, hi, wi, :, :]\n",
    "\n",
    "def get_tile_list(img, tile_size, step):\n",
    "    tiles = cut_tiles(img, tile_size, step)\n",
    "    b, c, tile_nw, tile_nh, h, w = tiles.shape\n",
    "    result = []\n",
    "    for i in range(tile_nw):\n",
    "        for j in range(tile_nh):\n",
    "            result.append(get_tile(tiles, i, j))\n",
    "    return result\n",
    "\n",
    "def show_tile(tiles, batch_idx, hi, wi):\n",
    "    #TODO: visualize a specific tile, given batch index, pos_h, pos_w\n",
    "    tile = tiles[:, :, hi, wi, :, :]\n",
    "    plt.imshow(np.array(tile.data).transpose(0, 2, 3, 1)[batch_idx])\n",
    "    plt.figure()\n",
    "\n",
    "def forward(net_base, net_comblist, net_pred, tile_list, device):\n",
    "    fx = t.Tensor().type(t.FloatTensor).to(device)\n",
    "    for idx, tile in enumerate(tile_list):\n",
    "        tile = tile.type(t.FloatTensor).to(device)\n",
    "        fxi = net_base(tile)\n",
    "        fxi = net_comblist[idx](fxi)\n",
    "        fx = t.cat((fx, fxi), 1)#Stack by CHANNEL\n",
    "    fx = net_pred(fx)\n",
    "    return fx\n",
    "\n",
    "def eval_accuracy(net_base, net_comblist, net_pred, testloader, device):\n",
    "    correct = 0\n",
    "    total = 0\n",
    "    with t.no_grad():\n",
    "        for i, (img_list, label_list) in enumerate(testloader):\n",
    "            label_list = label_list.to(device)\n",
    "            tile_list = get_tile_list(img_list, tile_size, step)\n",
    "            fx = forward(net_base, net_comblist, net_pred, tile_list, device)\n",
    "            _, predicted = t.max(fx.data, 1)\n",
    "            total += label_list.size(0)\n",
    "            correct += (predicted == label_list).sum().item()\n",
    "    return correct, total\n",
    "\n",
    "\n",
    "class Combiner(t.nn.Module):\n",
    "    def __init__(self):\n",
    "        super(Combiner, self).__init__()\n",
    "        self._n_in_filters = 1024\n",
    "        self._n_out_filters = 32#128 for 2x2, 32 for 4x4\n",
    "        self._conv1 = nn.Conv2d(self._n_in_filters, self._n_out_filters, 1, padding=0)\n",
    "        self._bn = nn.BatchNorm2d(self._n_out_filters)\n",
    "        \n",
    "    def forward(self, tile):\n",
    "        x = self._bn(self._conv1(tile))\n",
    "        return x\n",
    "\n",
    "\n",
    "class Predictor(t.nn.Module):\n",
    "    #TODO: train a dummy model for CIFAR, will improve upon this one\n",
    "    def __init__(self):\n",
    "        super(Predictor, self).__init__()\n",
    "        N_in, N_res, N_1x1, N_3x3, N_out = 512, 512, 128, 512, 10\n",
    "        \n",
    "        self.aapool = nn.AdaptiveAvgPool2d(1)\n",
    "        \n",
    "        self.conv1_res = nn.Conv2d(N_in, N_res, 1)\n",
    "        self.conv1_1x1 = nn.Conv2d(N_in, N_1x1, 1)\n",
    "        self.conv1 = nn.Conv2d(N_1x1, N_3x3, 3, padding=1)\n",
    "        self.conv1_bn = nn.BatchNorm2d(N_3x3)\n",
    "        \n",
    "        self.conv2_res = nn.Conv2d(N_in, N_res, 1)\n",
    "        self.conv2_1x1 = nn.Conv2d(N_in, N_1x1, 1)\n",
    "        self.conv2 = nn.Conv2d(N_1x1, N_3x3, 3, padding=1)\n",
    "        self.conv2_bn = nn.BatchNorm2d(N_3x3)\n",
    "        \n",
    "        self.conv3_res = nn.Conv2d(N_in, N_res, 1)\n",
    "        self.conv3_1x1 = nn.Conv2d(N_in, N_1x1, 1)\n",
    "        self.conv3 = nn.Conv2d(N_1x1, N_3x3, 3, padding=1)\n",
    "        self.conv3_bn = nn.BatchNorm2d(N_3x3)\n",
    "        \n",
    "        self.conv4_res = nn.Conv2d(N_in, N_res, 1)\n",
    "        self.conv4_1x1 = nn.Conv2d(N_in, N_1x1, 1)\n",
    "        self.conv4 = nn.Conv2d(N_1x1, N_3x3, 3, padding=1)\n",
    "        self.conv4_bn = nn.BatchNorm2d(N_3x3)\n",
    "        \n",
    "        self.conv5_res = nn.Conv2d(N_in, N_res, 1)\n",
    "        self.conv5_1x1 = nn.Conv2d(N_in, N_1x1, 1)\n",
    "        self.conv5 = nn.Conv2d(N_1x1, N_3x3, 3, padding=1)\n",
    "        self.conv5_bn = nn.BatchNorm2d(N_3x3)\n",
    "        \n",
    "        self.conv6_res = nn.Conv2d(N_in, N_res, 1)\n",
    "        self.conv6_1x1 = nn.Conv2d(N_in, N_1x1, 1)\n",
    "        self.conv6 = nn.Conv2d(N_1x1, N_3x3, 3, padding=1)\n",
    "        self.conv6_bn = nn.BatchNorm2d(N_3x3)\n",
    "        \n",
    "        self.conv_last = nn.Conv2d(N_in, N_in, 3, padding=1)\n",
    "        self.conv_last_bn = nn.BatchNorm2d(N_in)\n",
    "        \n",
    "        self.fc1 = nn.Linear(N_in, N_out)\n",
    "        \n",
    "    def forward(self, x):\n",
    "        c = self.conv1_bn(F.relu(self.conv1(self.conv1_1x1(x))))\n",
    "        #r = self.conv1_res(x)\n",
    "        x = c + x\n",
    "        #x = t.cat((c, r), 1)\n",
    "        \n",
    "        c = self.conv2_bn(F.relu(self.conv2(self.conv2_1x1(x))))\n",
    "        x = c + x\n",
    "        \n",
    "        c = self.conv3_bn(F.relu(self.conv3(self.conv3_1x1(x))))\n",
    "        x = c + x\n",
    "        \n",
    "        c = self.conv4_bn(F.relu(self.conv4(self.conv4_1x1(x))))\n",
    "        x = c + x\n",
    "        \n",
    "        c = self.conv5_bn(F.relu(self.conv5(self.conv5_1x1(x))))\n",
    "        x = c + x\n",
    "        \n",
    "        c = self.conv6_bn(F.relu(self.conv6(self.conv6_1x1(x))))\n",
    "        x = c + x\n",
    "        \n",
    "        #x = F.relu(self.conv3_bn(self.conv3(self.conv3_1x1(x))))\n",
    "        #x = F.relu(self.conv4_bn(self.conv4(self.conv4_1x1(x))))\n",
    "        #x = F.relu(self.conv5_bn(self.conv5(self.conv5_1x1(x))))\n",
    "        \n",
    "        x = self.conv_last_bn(F.relu(self.conv_last(x)))\n",
    "        \n",
    "        x = self.aapool(x)\n",
    "        x = x.squeeze()\n",
    "        x = self.fc1(x)\n",
    "        return x\n",
    "    \n",
    "#mistakenly using same 1x1 conv but somehow got same accuracy? first round 56%\n",
    "#mistakenly use c, not x at last_bn, only got <70% ACCURACY\n",
    "#use proposed architecture on report, got 82%\n",
    "#weight_decay 1e-4, no conv1x1 for residual, accuracy 82%\n",
    "#use weight_decay 1e-5, larger overlap tiles\n",
    "#try making residual of compression to see if it is efficient"
   ]
  },
  {
   "cell_type": "code",
   "execution_count": 20,
   "metadata": {},
   "outputs": [
    {
     "name": "stdout",
     "output_type": "stream",
     "text": [
      "Files already downloaded and verified\n",
      "Files already downloaded and verified\n"
     ]
    }
   ],
   "source": [
    "\n",
    "#preprocessing\n",
    "tf1 = transform.Resize((img_size_h, img_size_w))#((64, 64))#\n",
    "tf2 = transform.RandomAffine((-5, 5), translate=None, scale=None, shear=None, resample=False, fillcolor=0)\n",
    "tf3 = transform.RandomHorizontalFlip()\n",
    "tf4 = transform.ToTensor()\n",
    "tf5 =  transform.Normalize((0.4914, 0.4822, 0.4465), (0.2023, 0.1994, 0.2010))\n",
    "tf_train = transform.Compose([tf1, tf3, tf4, tf5])\n",
    "tf_test = transform.Compose([tf1, tf4, tf5])\n",
    "\n",
    "trainset = tv.datasets.CIFAR10(root='./dataset/data', train=True, download=True, transform=tf_train)\n",
    "trainloader=t.utils.data.DataLoader(trainset, batch_size=4, shuffle=True, num_workers=4)\n",
    "testset = tv.datasets.CIFAR10(root='./dataset/data', train=False, download=True, transform=tf_test)\n",
    "testloader = t.utils.data.DataLoader(testset, batch_size=4, shuffle=False, num_workers=2)\n",
    "classes = np.array(('plane', 'car', 'bird', 'cat',\n",
    "           'deer', 'dog', 'frog', 'horse', 'ship', 'truck'))\n",
    "\n",
    "dataiter = iter(trainloader)\n"
   ]
  },
  {
   "cell_type": "code",
   "execution_count": 21,
   "metadata": {},
   "outputs": [
    {
     "name": "stderr",
     "output_type": "stream",
     "text": [
      "Clipping input data to the valid range for imshow with RGB data ([0..1] for floats or [0..255] for integers).\n"
     ]
    },
    {
     "data": {
      "image/png": "[encoded data removed]",
      "text/plain": [
       "<Figure size 432x288 with 1 Axes>"
      ]
     },
     "metadata": {
      "needs_background": "light"
     },
     "output_type": "display_data"
    },
    {
     "name": "stdout",
     "output_type": "stream",
     "text": [
      "[ ' c a r '   ' c a r '   ' h o r s e '   ' t r u c k ' ]\n"
     ]
    }
   ],
   "source": [
    "\n",
    "from matplotlib import pyplot as plt\n",
    "%matplotlib inline\n",
    "images, labels = dataiter.next()#load a batch of images and labels\n",
    "test_utils.imshow(tv.utils.make_grid(images))\n",
    "print (' '.join('%5s' % classes[labels]))"
   ]
  },
  {
   "cell_type": "code",
   "execution_count": 4,
   "metadata": {},
   "outputs": [],
   "source": [
    "#BASE layer using yolo. yolo_base only includes convolutional layers\n",
    "#     base layer use tiny-yolo should have 89% accuracy in cifar using adam, which should be good\n",
    "#yolo = yolo_base.load_model(img_size)\n",
    "yolo = yolo_base.load_model(tile_size)\n",
    "#NOW, set requires_grad = False to free all those layers (those layers don't need to learn anymore)\n",
    "\n",
    "#assuming not freeing the yolo layers\n",
    "#for param in yolo.parameters():\n",
    "#    param.requires_grad = False\n",
    "    \n",
    "#now, create combiner network\n",
    "comb_list = [Combiner() for i in range(tile_n)]\n",
    "#net = t.nn.DataParallel(net)#allow using 2 GPU\n",
    "for comb in comb_list:\n",
    "    comb.to(device)\n",
    "\n",
    "    \n",
    "pred = Predictor()\n",
    "pred.to(device)\n",
    "\n",
    "#NOW, set requires_grad = False to free all those layers (those layers don't need to learn anymore)\n",
    "\n",
    "#assuming not freeing the yolo layers\n",
    "#for param in yolo.parameters():\n",
    "#    param.requires_grad = False\n",
    "    \n",
    "#now, create combiner network\n",
    "comb_list = [Combiner() for i in range(tile_n)]\n",
    "#net = t.nn.DataParallel(net)#allow using 2 GPU\n",
    "for comb in comb_list:\n",
    "    comb.to(device)\n",
    "\n",
    "    \n",
    "pred = Predictor()\n",
    "pred.to(device)\n",
    "\n",
    "param_list = []\n",
    "param_list += yolo.parameters()\n",
    "for comb in comb_list: \n",
    "    param_list += comb.parameters()\n",
    "param_list += pred.parameters()\n",
    "#Now, off with the traning\n",
    "learning_rate = 4e-4\n",
    "optim = t.optim.Adam(param_list, lr=learning_rate, weight_decay=1e-5)\n",
    "\n"
   ]
  },
  {
   "cell_type": "code",
   "execution_count": null,
   "metadata": {},
   "outputs": [],
   "source": []
  },
  {
   "cell_type": "code",
   "execution_count": null,
   "metadata": {},
   "outputs": [],
   "source": []
  },
  {
   "cell_type": "code",
   "execution_count": null,
   "metadata": {},
   "outputs": [],
   "source": []
  },
  {
   "cell_type": "code",
   "execution_count": null,
   "metadata": {},
   "outputs": [],
   "source": [
    "import timeit\n",
    "\n",
    "N_EPOCH = 100\n",
    "N_REPORT = 2000\n",
    "loss_log = []\n",
    "d = t.nn.CrossEntropyLoss()\n",
    "\n",
    "with open('loss_log.txt', 'w') as f_log:\n",
    "    btime = timeit.default_timer()\n",
    "    for epoch in range(N_EPOCH):\n",
    "        running_loss = 0.\n",
    "        for i, (img_list, label_list) in enumerate(trainloader):\n",
    "            start = t.cuda.Event(enable_timing=True)\n",
    "            end = t.cuda.Event(enable_timing=True)\n",
    "            start.record() ###measure training time for one iteration\n",
    "\n",
    "            label_list = label_list.to(device)\n",
    "            tile_list = get_tile_list(img_list, tile_size, step)\n",
    "            fx = forward(yolo, comb_list, pred, tile_list, device)\n",
    "            loss = d(fx, label_list)#loss\n",
    "\n",
    "            optim.zero_grad()\n",
    "            loss.backward()#now backward, grad in graph will have something\n",
    "            #clipping, I guess there is a problem with gradient exploding\n",
    "            #t.nn.utils.clip_grad_norm_(net.parameters(), 1.0) #NOTE: prevent gradient exploding\n",
    "            optim.step()#now, the weights is update.\n",
    "\n",
    "\n",
    "            running_loss += loss.item()\n",
    "            if i % N_REPORT == N_REPORT-1:    # print every 2000 mini-batches\n",
    "                end.record()\n",
    "                t.cuda.synchronize()\n",
    "\n",
    "                print ('iter time: {}, exec time: {}, cur learning rate: {}'.format(start.elapsed_time(end), timeit.default_timer() - btime, test_utils.get_lr(optim)))\n",
    "                btime = timeit.default_timer()\n",
    "                print('[%d, %5d] loss: %.3f' %\n",
    "                      (epoch + 1, i + 1, running_loss / 2000))\n",
    "                loss_log.append(running_loss/2000)\n",
    "                running_loss = 0.0\n",
    "\n",
    "\n",
    "        #periodically check model performance on testset to detect overfitting\n",
    "        correct, total = eval_accuracy(yolo, comb_list, pred, testloader, device)\n",
    "        print('Eval Accuracy of the network on the 10000 test images: %d %%' % ( 100 * correct / total))\n",
    "        f_log.write('{},{}\\n'.format(loss_log[-1], correct*100./total))\n",
    "\n",
    "        #save model just incase (e.g. gradient exploding may ruin current model)\n",
    "        if epoch % 5 ==0 and epoch > 1:\n",
    "            t.save([yolo.state_dict(), [comb.state_dict() for comb in comb_list], pred.state_dict()], './models/yolo_tile4x4_fc_cifar{}'.format(epoch))"
   ]
  },
  {
   "cell_type": "code",
   "execution_count": null,
   "metadata": {},
   "outputs": [],
   "source": [
    "eval_accuracy(yolo, comb_list, pred, testloader, device)"
   ]
  },
  {
   "cell_type": "code",
   "execution_count": null,
   "metadata": {},
   "outputs": [],
   "source": [
    "fx.shape\n"
   ]
  },
  {
   "cell_type": "code",
   "execution_count": null,
   "metadata": {},
   "outputs": [],
   "source": [
    "5671./10000"
   ]
  },
  {
   "cell_type": "code",
   "execution_count": null,
   "metadata": {},
   "outputs": [],
   "source": []
  },
  {
   "cell_type": "code",
   "execution_count": null,
   "metadata": {},
   "outputs": [],
   "source": []
  },
  {
   "cell_type": "code",
   "execution_count": null,
   "metadata": {},
   "outputs": [],
   "source": [
    "import sys\n",
    "!{sys.executable} -m pip install scikit-image"
   ]
  },
  {
   "cell_type": "code",
   "execution_count": null,
   "metadata": {},
   "outputs": [],
   "source": [
    "# training the model for regression dataset\n",
    "\n",
    "from __future__ import print_function, division\n",
    "import os\n",
    "import torch\n",
    "import pandas as pd\n",
    "from skimage import io, transform\n",
    "import numpy as np\n",
    "import matplotlib.pyplot as plt\n",
    "from torch.utils.data import Dataset, DataLoader\n",
    "from torchvision import transforms, utils\n",
    "import warnings\n",
    "warnings.filterwarnings(\"ignore\")\n",
    "\n",
    "landmarks_frame = pd.read_csv('./dataset/regressionDataset/testdata.csv')\n",
    "n=1\n",
    "\n",
    "class FaceLandmarksDataset(Dataset):\n",
    "    def __init__(self, csv_file, root_dir, transform=None):\n",
    "        self.landmarks_frame = pd.read_csv(csv_file)\n",
    "        self.root_dir = root_dir\n",
    "        self.transform = transform\n",
    "    def __len__(self):\n",
    "        return len(self.landmarks_frame)\n",
    "    def __getitem__(self, idx):\n",
    "        if torch.is_tensor(idx):\n",
    "            idx = idx.tolist()\n",
    "        img_name = os.path.join(self.root_dir, self.landmarks_frame.iloc[idx, 0])\n",
    "        image = io.imread(img_name)\n",
    "        landmarks = self.landmarks_frame.iloc[idx, 1:]\n",
    "        landmarks = np.array([landmarks])\n",
    "        landmarks = landmarks.astype('float').reshape(-1, 2)\n",
    "        sample = {'image': image, 'landmarks': landmarks}\n",
    "        if self.transform:\n",
    "            sample = self.transform(sample)\n",
    "        return sample\n",
    "    \n",
    "class ToTensor(object):\n",
    "    \"\"\"Convert ndarrays in sample to Tensors.\"\"\"\n",
    "    def __call__(self, sample):\n",
    "        image, landmarks = sample['image'], sample['landmarks']\n",
    "        # swap color axis because\n",
    "        # numpy image: H x W x C\n",
    "        # torch image: C X H X W\n",
    "        image = image.transpose((2, 0, 1))\n",
    "        return {'image': torch.from_numpy(image),\n",
    "                'landmarks': torch.from_numpy(landmarks)}\n",
    "    \n",
    "face_dataset = FaceLandmarksDataset(csv_file='./dataset/regressionDataset/testdata.csv',root_dir='./dataset/regressionDatset') \n",
    "transformed_dataset = FaceLandmarksDataset(csv_file='./dataset/regressionDataset/testdata.csv',root_dir='./dataset/regressionDataset',transform=transforms.Compose([ToTensor()]))\n",
    "dataloader = DataLoader(transformed_dataset, batch_size=1,shuffle=True, num_workers=4)\n",
    "print (dataloader)\n",
    "\n",
    "# Helper function to show a batch\n",
    "def show_landmarks_batch(sample_batched):\n",
    "    \"\"\"Show image with landmarks for a batch of samples.\"\"\"\n",
    "    images_batch, landmarks_batch = \\\n",
    "            sample_batched['image'], sample_batched['landmarks']\n",
    "    batch_size = len(images_batch)\n",
    "    im_size = images_batch.size(2)\n",
    "    grid_border_size = 2\n",
    "    grid = utils.make_grid(images_batch)\n",
    "    plt.imshow(grid.numpy().transpose((1, 2, 0)))\n",
    "    for i in range(batch_size):\n",
    "        plt.scatter(landmarks_batch[i, :, 0].numpy() + i * im_size + (i + 1) * grid_border_size,landmarks_batch[i, :, 1].numpy() + grid_border_size,s=10, marker='.', c='r')\n",
    "        plt.title('Batch from dataloader')\n",
    "        \n",
    "for i_batch, sample_batched in enumerate(dataloader):\n",
    "    print(i_batch, sample_batched['image'].size(),sample_batched['landmarks'].size())\n",
    "    plt.figure()\n",
    "    show_landmarks_batch(sample_batched)\n",
    "    plt.axis('off')\n",
    "    plt.ioff()\n",
    "    plt.show()\n"
   ]
  },
  {
   "cell_type": "code",
   "execution_count": null,
   "metadata": {},
   "outputs": [],
   "source": [
    "# train for simple CNN model \n",
    "\n",
    "import torch\n",
    "from torch.autograd import Variable\n",
    "import torch.nn.functional as F\n",
    "import torch.utils.data as Data\n",
    "import matplotlib.pyplot as plt\n",
    "%matplotlib inline\n",
    "import numpy as np\n",
    "import imageio\n",
    "import torch.nn as nn\n",
    "import torch.nn.functional as F\n",
    "\n",
    "      \n",
    "optimizer = torch.optim.Adam(net.parameters(), lr=0.01)\n",
    "loss_func = torch.nn.MSELoss()  # this is for regression mean squared loss\n",
    "EPOCH = 1\n",
    "\n",
    "for epoch in range(EPOCH):\n",
    "    for step, (sample_batched) in enumerate(dataloader): # for each training step\n",
    "        b_x = Variable(sample_batched['image'].type(torch.FloatTensor))\n",
    "        b_y = Variable(sample_batched['landmarks'])\n",
    "        print (b_x)\n",
    "        tile_list = get_tile_list(b_x, tile_size, step)\n",
    "        fx = forward(yolo, comb_list, pred, tile_list, device)\n",
    "        #prediction = net(b_x)     # input x and predict based on x\n",
    "        loss = loss_func(prediction, fx)     # must be (1. nn output, 2. target)\n",
    "        optimizer.zero_grad()   # clear gradients for next train\n",
    "        loss.backward()         # backpropagation, compute gradients\n",
    "        optimizer.step()        # apply gradients\n",
    "        break"
   ]
  },
  {
   "cell_type": "code",
   "execution_count": null,
   "metadata": {},
   "outputs": [],
   "source": [
    "img_size_h, img_size_w"
   ]
  },
  {
   "cell_type": "code",
   "execution_count": 5,
   "metadata": {},
   "outputs": [
    {
     "name": "stdout",
     "output_type": "stream",
     "text": [
      "Flops:  23.68 GMac\n",
      "Params: 6.3 M\n"
     ]
    }
   ],
   "source": [
    "from ptflops import get_model_complexity_info\n",
    "with t.cuda.device(0):\n",
    "    net = yolo\n",
    "    flops, params = get_model_complexity_info(net, (3, 1472, 1472), as_strings=True, print_per_layer_stat=False)\n",
    "    print('Flops:  ' + flops)\n",
    "    print('Params: ' + params)"
   ]
  },
  {
   "cell_type": "code",
   "execution_count": null,
   "metadata": {},
   "outputs": [],
   "source": [
    "#yolo = yolo_base.load_model(tile_size)\n",
    "\n",
    "#for comb in comb_list:\n",
    "\n",
    "#pred.to(device)"
   ]
  },
  {
   "cell_type": "raw",
   "metadata": {},
   "source": [
    "#MODEL parameters\n",
    "\n",
    "YOLO\n",
    "Flops:  1.89 GMac\n",
    "Params: 6.3 M\n",
    "\n",
    "COMBINER\n",
    "Flops:  0.03 GMac\n",
    "Params: 32.86 k\n",
    "\n",
    "PREDICTOR\n",
    "Flops:  4.94 GMac\n",
    "Params: 7.88 M\n",
    "\n",
    "\n",
    "YOLO 768x768\n",
    "Flops:  6.45 GMac\n",
    "Params: 6.3 M\n",
    "\n",
    "YOLO 1472x1472\n",
    "Flops:  23.68 GMac\n",
    "Params: 6.3 M\n",
    "\n",
    "#execution times\n",
    "4x4       YOLO: 257.4766 ms\n",
    "2x2       YOLO: 63.0711  ms\n",
    "768x768   YOLO: 67.974   ms\n",
    "1472x1472 YOLO: 196.66   ms"
   ]
  },
  {
   "cell_type": "code",
   "execution_count": 48,
   "metadata": {},
   "outputs": [
    {
     "data": {
      "text/plain": [
       "<Figure size 432x288 with 0 Axes>"
      ]
     },
     "execution_count": 48,
     "metadata": {},
     "output_type": "execute_result"
    },
    {
     "data": {
      "image/png": "[encoded data removed]",
      "text/plain": [
       "<Figure size 432x288 with 1 Axes>"
      ]
     },
     "metadata": {
      "needs_background": "light"
     },
     "output_type": "display_data"
    },
    {
     "data": {
      "image/png": "[encoded data removed]",
      "text/plain": [
       "<Figure size 432x288 with 1 Axes>"
      ]
     },
     "metadata": {
      "needs_background": "light"
     },
     "output_type": "display_data"
    },
    {
     "data": {
      "text/plain": [
       "<Figure size 432x288 with 0 Axes>"
      ]
     },
     "metadata": {},
     "output_type": "display_data"
    }
   ],
   "source": [
    "from matplotlib import pyplot as plt\n",
    "%matplotlib inline\n",
    "\n",
    "exec_time = [67.974, 63.071, 196.66, 257.4766]\n",
    "x = np.arange(len(exec_time))\n",
    "x_labels = '768x768', '2x2', '1472x1472', '4x4'\n",
    "\n",
    "exec_flop_2x2 = 1.89 * 4 + 0.03 + 4.94\n",
    "exec_flop_4x4 = 1.89 * 16 + 0.03 + 4.94\n",
    "exec_flop_768 = 6.45\n",
    "exec_flop_1472 = 23.68\n",
    "\n",
    "exec_flop = exec_flop_768, exec_flop_2x2,  exec_flop_1472, exec_flop_4x4\n",
    "\n",
    "plt.bar(x, exec_time)\n",
    "plt.xticks(x, x_labels)\n",
    "plt.ylabel('GPU time (ms)')\n",
    "plt.savefig('./figs/exec_time.jpg', dpi=300)\n",
    "plt.figure()\n",
    "\n",
    "plt.bar(x, exec_flop)\n",
    "plt.xticks(x, x_labels)\n",
    "plt.ylabel('FLOPS')\n",
    "plt.savefig('./figs/exec_flop.jpg', dpi=300)\n",
    "plt.figure()\n"
   ]
  },
  {
   "cell_type": "code",
   "execution_count": 49,
   "metadata": {},
   "outputs": [
    {
     "data": {
      "text/plain": [
       "<Figure size 432x288 with 0 Axes>"
      ]
     },
     "execution_count": 49,
     "metadata": {},
     "output_type": "execute_result"
    },
    {
     "data": {
      "image/png": "[encoded data removed]",
      "text/plain": [
       "<Figure size 432x288 with 1 Axes>"
      ]
     },
     "metadata": {
      "needs_background": "light"
     },
     "output_type": "display_data"
    },
    {
     "data": {
      "text/plain": [
       "<Figure size 432x288 with 0 Axes>"
      ]
     },
     "metadata": {},
     "output_type": "display_data"
    }
   ],
   "source": [
    "#measure accuracy\n",
    "perf_acc = [88, 86, 80]\n",
    "x = np.arange(len(perf_acc))\n",
    "x_labels = ['416x416', '2x2', '4x4']\n",
    "plt.bar(x, perf_acc)\n",
    "plt.xticks(x, x_labels)\n",
    "plt.ylabel('Accuracy (%)')\n",
    "plt.savefig('./figs/perm_acc.jpg', dpi=300)\n",
    "plt.figure()"
   ]
  },
  {
   "cell_type": "code",
   "execution_count": 6,
   "metadata": {},
   "outputs": [
    {
     "name": "stdout",
     "output_type": "stream",
     "text": [
      "exec time: 283.1023254394531\n",
      "exec time: 262.8515930175781\n",
      "exec time: 262.5689392089844\n",
      "exec time: 259.93603515625\n",
      "exec time: 259.1136779785156\n",
      "exec time: 260.1634216308594\n",
      "exec time: 258.36541748046875\n",
      "exec time: 257.9424133300781\n",
      "exec time: 260.6632995605469\n",
      "exec time: 257.7121276855469\n",
      "262.24192504882814\n"
     ]
    }
   ],
   "source": [
    "###Measuring inference time\n",
    "with t.no_grad():\n",
    "    result = []\n",
    "    for i in range(10):\n",
    "        start = t.cuda.Event(enable_timing=True)\n",
    "        end = t.cuda.Event(enable_timing=True)\n",
    "        start.record() ###measure training time for one iteration\n",
    "        \n",
    "        #for testing YOLO alone\n",
    "        #img_list = t.rand(4, 3, 768, 768).to(device)\n",
    "        #yolo(img_list)\n",
    "        \n",
    "        #for testing YOLO tile\n",
    "        tile_list = t.rand(16, 4, 3, 416, 416)\n",
    "        forward(yolo, comb_list, pred, tile_list, device)\n",
    "        end.record()\n",
    "        t.cuda.synchronize()\n",
    "        exec_time=start.elapsed_time(end)\n",
    "        result.append(exec_time)\n",
    "        print ('exec time: {}'.format(exec_time))\n",
    "    print (np.mean(result))"
   ]
  },
  {
   "cell_type": "code",
   "execution_count": 54,
   "metadata": {},
   "outputs": [
    {
     "data": {
      "text/plain": [
       "<Figure size 432x288 with 0 Axes>"
      ]
     },
     "execution_count": 54,
     "metadata": {},
     "output_type": "execute_result"
    },
    {
     "data": {
      "image/png": "[encoded data removed]",
      "text/plain": [
       "<Figure size 432x288 with 1 Axes>"
      ]
     },
     "metadata": {
      "needs_background": "light"
     },
     "output_type": "display_data"
    },
    {
     "data": {
      "text/plain": [
       "<Figure size 432x288 with 0 Axes>"
      ]
     },
     "metadata": {},
     "output_type": "display_data"
    }
   ],
   "source": [
    "#TEST MEM\n",
    "#MEMORY CONSUMPTION of PROPOSED MODELS\n",
    "from matplotlib import pyplot as plt\n",
    "%matplotlib inline\n",
    "def f_memsize(x):\n",
    "    return x.element_size() * x.nelement()/1024/1024\n",
    "\n",
    "x_proposed = t.rand(1024, 28, 28)\n",
    "x_416 = t.rand(16, 416, 416)\n",
    "x_768 = t.rand(16, 768, 768)\n",
    "x_1472 = t.rand(16, 1472, 1472)\n",
    "filtermap = x_416, x_768, x_1472\n",
    "mem_filtermap = [f_memsize(item) for item in filtermap]\n",
    "\n",
    "x = np.arange(len(mem_filtermap))\n",
    "x_labels = 'proposed', '768x768', '1472x1472'\n",
    "plt.bar(x, mem_filtermap)\n",
    "plt.xticks(x, x_labels)\n",
    "plt.ylabel('Filtermap Size (Mbs)')\n",
    "plt.savefig('./figs/mem_filtermap2.jpg', dpi=300)\n",
    "plt.figure()"
   ]
  },
  {
   "cell_type": "code",
   "execution_count": 38,
   "metadata": {},
   "outputs": [
    {
     "name": "stdout",
     "output_type": "stream",
     "text": [
      "16.0\n",
      "64.0\n",
      "144.0\n",
      "256.0\n",
      "400.0\n",
      "576.0\n",
      "784.0\n",
      "1024.0\n",
      "1296.0\n",
      "1600.0\n",
      "1936.0\n",
      "2304.0\n",
      "2704.0\n",
      "3136.0\n",
      "3600.0\n"
     ]
    }
   ],
   "source": [
    "#TEST MEM\n",
    "#MEMORY CONSUMPTION\n",
    "from matplotlib import pyplot as plt\n",
    "%matplotlib inline\n",
    "def f_memsize(x):\n",
    "    return x.element_size() * x.nelement()/1024/1024\n",
    "size_list = np.arange(256, 4096, 256)\n",
    "for size in size_list:\n",
    "    xvgg = t.rand(64, size, size)\n",
    "    print (f_memsize(xvgg))\n",
    "\n",
    "    \n"
   ]
  },
  {
   "cell_type": "code",
   "execution_count": null,
   "metadata": {},
   "outputs": [],
   "source": []
  },
  {
   "cell_type": "code",
   "execution_count": 45,
   "metadata": {},
   "outputs": [
    {
     "data": {
      "image/png": "[encoded data removed]",
      "text/plain": [
       "<Figure size 432x288 with 1 Axes>"
      ]
     },
     "metadata": {
      "needs_background": "light"
     },
     "output_type": "display_data"
    }
   ],
   "source": [
    "vgg_list = [16.0, 64.0, 144.0, 256.0, 400.0, 576.0, 784.0, 1024.0, 1296.0, 1600.0, 1936.0, 2304.0, 2704.0, 3136.0, 3600.0]\n",
    "plt.scatter (size_list, vgg_list)\n",
    "plt.plot(size_list, vgg_list)\n",
    "plt.xlabel('image dimension (pixel)')\n",
    "plt.ylabel('filter map size (Mb)')\n",
    "plt.savefig('./figs/mem_filtermap.jpg', dpi=300)"
   ]
  },
  {
   "cell_type": "code",
   "execution_count": 26,
   "metadata": {},
   "outputs": [
    {
     "name": "stderr",
     "output_type": "stream",
     "text": [
      "Clipping input data to the valid range for imshow with RGB data ([0..1] for floats or [0..255] for integers).\n",
      "Clipping input data to the valid range for imshow with RGB data ([0..1] for floats or [0..255] for integers).\n",
      "Clipping input data to the valid range for imshow with RGB data ([0..1] for floats or [0..255] for integers).\n",
      "Clipping input data to the valid range for imshow with RGB data ([0..1] for floats or [0..255] for integers).\n"
     ]
    },
    {
     "name": "stdout",
     "output_type": "stream",
     "text": [
      "(416, 416, 3)\n",
      "(416, 416, 3)\n",
      "(416, 416, 3)\n",
      "(416, 416, 3)\n"
     ]
    },
    {
     "data": {
      "image/png": "[encoded data removed]",
      "text/plain": [
       "<Figure size 432x288 with 1 Axes>"
      ]
     },
     "metadata": {
      "needs_background": "light"
     },
     "output_type": "display_data"
    },
    {
     "data": {
      "image/png": "[encoded data removed]",
      "text/plain": [
       "<Figure size 432x288 with 1 Axes>"
      ]
     },
     "metadata": {
      "needs_background": "light"
     },
     "output_type": "display_data"
    },
    {
     "data": {
      "image/png": "[encoded data removed]",
      "text/plain": [
       "<Figure size 432x288 with 1 Axes>"
      ]
     },
     "metadata": {
      "needs_background": "light"
     },
     "output_type": "display_data"
    },
    {
     "data": {
      "image/png": "[encoded data removed]",
      "text/plain": [
       "<Figure size 432x288 with 1 Axes>"
      ]
     },
     "metadata": {
      "needs_background": "light"
     },
     "output_type": "display_data"
    },
    {
     "data": {
      "text/plain": [
       "<Figure size 432x288 with 0 Axes>"
      ]
     },
     "metadata": {},
     "output_type": "display_data"
    }
   ],
   "source": [
    "#SHOW individual tile\n",
    "for i, (img_list, label_list) in enumerate(trainloader):\n",
    "    break\n",
    "tile_list = get_tile_list(img_list, tile_size, step)\n",
    "for tile in tile_list:\n",
    "    plt.axis('off')\n",
    "    tile = np.array(tile[0]).transpose(1, 2, 0)\n",
    "    print (tile.shape)\n",
    "    plt.imshow(tile)\n",
    "    plt.figure()"
   ]
  }
 ],
 "metadata": {
  "kernelspec": {
   "display_name": "Python (env_pytorch_python3)",
   "language": "python",
   "name": "env_pytorch_python3"
  },
  "language_info": {
   "codemirror_mode": {
    "name": "ipython",
    "version": 3
   },
   "file_extension": ".py",
   "mimetype": "text/x-python",
   "name": "python",
   "nbconvert_exporter": "python",
   "pygments_lexer": "ipython3",
   "version": "3.7.4"
  }
 },
 "nbformat": 4,
 "nbformat_minor": 2
}
